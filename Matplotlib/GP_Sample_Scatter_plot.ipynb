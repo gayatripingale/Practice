{
 "cells": [
  {
   "cell_type": "code",
   "execution_count": 9,
   "metadata": {},
   "outputs": [
    {
     "data": {
      "image/png": "[encoded data removed]",
      "text/plain": [
       "<matplotlib.figure.Figure at 0x11839c550>"
      ]
     },
     "metadata": {},
     "output_type": "display_data"
    }
   ],
   "source": [
    "import matplotlib.pyplot as plt\n",
    "x = [1,2,3,4,5,5,7,8] #Choosing any random number for lists x and y.\n",
    "y = [4,7,6,8,3,9,2,5]\n",
    "plt.scatter(x,y,label='Skitscat',color = 'b')\n",
    "plt.ylabel('y')\n",
    "plt.title('Sample Graph')# color = blue\n",
    "plt.xlabel('x') \n",
    "plt.ylabel('y')\n",
    "plt.title('Sample Graph')\n",
    "plt.legend()           \n",
    "plt.show()           \n",
    "       "
   ]
  },
  {
   "cell_type": "code",
   "execution_count": null,
   "metadata": {
    "collapsed": true
   },
   "outputs": [],
   "source": []
  }
 ],
 "metadata": {
  "kernelspec": {
   "display_name": "Python 3",
   "language": "python",
   "name": "python3"
  },
  "language_info": {
   "codemirror_mode": {
    "name": "ipython",
    "version": 3
   },
   "file_extension": ".py",
   "mimetype": "text/x-python",
   "name": "python",
   "nbconvert_exporter": "python",
   "pygments_lexer": "ipython3",
   "version": "3.6.2"
  }
 },
 "nbformat": 4,
 "nbformat_minor": 2
}
