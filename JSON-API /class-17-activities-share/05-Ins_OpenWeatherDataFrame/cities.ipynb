{
 "cells": [
  {
   "cell_type": "code",
   "execution_count": 1,
   "metadata": {
    "collapsed": true
   },
   "outputs": [],
   "source": [
    "# Dependencies\n",
    "import matplotlib.pyplot as plt\n",
    "import requests as req\n",
    "import pandas as pd"
   ]
  },
  {
   "cell_type": "code",
   "execution_count": 2,
   "metadata": {
    "collapsed": true
   },
   "outputs": [],
   "source": [
    "# Save config information.\n",
    "api_key = \"25bc90a1196e6f153eece0bc0b0fc9eb\"\n",
    "url = \"http://api.openweathermap.org/data/2.5/weather?\"\n",
    "units = \"metric\"\n",
    "\n",
    "# Build partial query URL\n",
    "query_url = url + \"appid=\" + api_key + \"&units=\" + units + \"&q=\""
   ]
  },
  {
   "cell_type": "code",
   "execution_count": 3,
   "metadata": {},
   "outputs": [
    {
     "data": {
      "text/plain": [
       "[{'base': 'stations',\n",
       "  'clouds': {'all': 0},\n",
       "  'cod': 200,\n",
       "  'coord': {'lat': 48.86, 'lon': 2.35},\n",
       "  'dt': 1518841800,\n",
       "  'id': 2988507,\n",
       "  'main': {'humidity': 80,\n",
       "   'pressure': 1019,\n",
       "   'temp': 4,\n",
       "   'temp_max': 4,\n",
       "   'temp_min': 4},\n",
       "  'name': 'Paris',\n",
       "  'sys': {'country': 'FR',\n",
       "   'id': 5610,\n",
       "   'message': 0.0041,\n",
       "   'sunrise': 1518850509,\n",
       "   'sunset': 1518887685,\n",
       "   'type': 1},\n",
       "  'visibility': 10000,\n",
       "  'weather': [{'description': 'light rain',\n",
       "    'icon': '10n',\n",
       "    'id': 500,\n",
       "    'main': 'Rain'}],\n",
       "  'wind': {'deg': 20, 'speed': 1.5}},\n",
       " {'base': 'stations',\n",
       "  'clouds': {'all': 0},\n",
       "  'cod': 200,\n",
       "  'coord': {'lat': 51.51, 'lon': -0.13},\n",
       "  'dt': 1518841200,\n",
       "  'id': 2643743,\n",
       "  'main': {'humidity': 93,\n",
       "   'pressure': 1021,\n",
       "   'temp': 0.87,\n",
       "   'temp_max': 3,\n",
       "   'temp_min': -1},\n",
       "  'name': 'London',\n",
       "  'sys': {'country': 'GB',\n",
       "   'id': 5091,\n",
       "   'message': 0.0058,\n",
       "   'sunrise': 1518851421,\n",
       "   'sunset': 1518887967,\n",
       "   'type': 1},\n",
       "  'visibility': 10000,\n",
       "  'weather': [{'description': 'fog', 'icon': '50n', 'id': 741, 'main': 'Fog'},\n",
       "   {'description': 'mist', 'icon': '50n', 'id': 701, 'main': 'Mist'}],\n",
       "  'wind': {'deg': 70, 'speed': 2.1}},\n",
       " {'base': 'stations',\n",
       "  'clouds': {'all': 0},\n",
       "  'cod': 200,\n",
       "  'coord': {'lat': 59.91, 'lon': 10.74},\n",
       "  'dt': 1518841200,\n",
       "  'id': 3143244,\n",
       "  'main': {'humidity': 92,\n",
       "   'pressure': 1022,\n",
       "   'temp': -8,\n",
       "   'temp_max': -8,\n",
       "   'temp_min': -8},\n",
       "  'name': 'Oslo',\n",
       "  'sys': {'country': 'NO',\n",
       "   'id': 5325,\n",
       "   'message': 0.0058,\n",
       "   'sunrise': 1518850149,\n",
       "   'sunset': 1518884037,\n",
       "   'type': 1},\n",
       "  'weather': [{'description': 'clear sky',\n",
       "    'icon': '01n',\n",
       "    'id': 800,\n",
       "    'main': 'Clear'}],\n",
       "  'wind': {'deg': 60, 'speed': 1}},\n",
       " {'base': 'stations',\n",
       "  'clouds': {'all': 0},\n",
       "  'cod': 200,\n",
       "  'coord': {'lat': 39.91, 'lon': 116.39},\n",
       "  'dt': 1518840000,\n",
       "  'id': 1816670,\n",
       "  'main': {'humidity': 59,\n",
       "   'pressure': 1025,\n",
       "   'temp': 1,\n",
       "   'temp_max': 1,\n",
       "   'temp_min': 1},\n",
       "  'name': 'Beijing',\n",
       "  'sys': {'country': 'CN',\n",
       "   'id': 7405,\n",
       "   'message': 0.0031,\n",
       "   'sunrise': 1518822300,\n",
       "   'sunset': 1518861147,\n",
       "   'type': 1},\n",
       "  'visibility': 10000,\n",
       "  'weather': [{'description': 'clear sky',\n",
       "    'icon': '01d',\n",
       "    'id': 800,\n",
       "    'main': 'Clear'}],\n",
       "  'wind': {'deg': 150, 'speed': 2}}]"
      ]
     },
     "execution_count": 3,
     "metadata": {},
     "output_type": "execute_result"
    }
   ],
   "source": [
    "weather_data = []\n",
    "cities = [\"Paris\",\"London\",\"Oslo\",\"Beijing\"]\n",
    "\n",
    "# Loop through the list of cities and perform a request for data on each\n",
    "for city in cities:\n",
    "    response = req.get(query_url + city).json()\n",
    "    weather_data.append(response)\n",
    "\n",
    "weather_data"
   ]
  },
  {
   "cell_type": "code",
   "execution_count": 4,
   "metadata": {},
   "outputs": [
    {
     "data": {
      "text/html": [
       "<div>\n",
       "<style>\n",
       "    .dataframe thead tr:only-child th {\n",
       "        text-align: right;\n",
       "    }\n",
       "\n",
       "    .dataframe thead th {\n",
       "        text-align: left;\n",
       "    }\n",
       "\n",
       "    .dataframe tbody tr th {\n",
       "        vertical-align: top;\n",
       "    }\n",
       "</style>\n",
       "<table border=\"1\" class=\"dataframe\">\n",
       "  <thead>\n",
       "    <tr style=\"text-align: right;\">\n",
       "      <th></th>\n",
       "      <th>lat</th>\n",
       "      <th>temp</th>\n",
       "    </tr>\n",
       "  </thead>\n",
       "  <tbody>\n",
       "    <tr>\n",
       "      <th>0</th>\n",
       "      <td>48.86</td>\n",
       "      <td>4.00</td>\n",
       "    </tr>\n",
       "    <tr>\n",
       "      <th>1</th>\n",
       "      <td>51.51</td>\n",
       "      <td>0.87</td>\n",
       "    </tr>\n",
       "    <tr>\n",
       "      <th>2</th>\n",
       "      <td>59.91</td>\n",
       "      <td>-8.00</td>\n",
       "    </tr>\n",
       "    <tr>\n",
       "      <th>3</th>\n",
       "      <td>39.91</td>\n",
       "      <td>1.00</td>\n",
       "    </tr>\n",
       "  </tbody>\n",
       "</table>\n",
       "</div>"
      ],
      "text/plain": [
       "     lat  temp\n",
       "0  48.86  4.00\n",
       "1  51.51  0.87\n",
       "2  59.91 -8.00\n",
       "3  39.91  1.00"
      ]
     },
     "execution_count": 4,
     "metadata": {},
     "output_type": "execute_result"
    }
   ],
   "source": [
    "# Extract interesting data from responses\n",
    "lat_data = [data.get(\"coord\").get(\"lat\") for data in weather_data]\n",
    "temp_data = [data.get(\"main\").get(\"temp\") for data in weather_data]\n",
    "\n",
    "weather_data = {\"temp\": temp_data, \"lat\": lat_data}\n",
    "weather_data = pd.DataFrame(weather_data)\n",
    "weather_data.head()"
   ]
  },
  {
   "cell_type": "code",
   "execution_count": 5,
   "metadata": {},
   "outputs": [
    {
     "data": {
      "image/png": "[encoded data removed]",
      "text/plain": [
       "<matplotlib.figure.Figure at 0x1089d4cf8>"
      ]
     },
     "metadata": {},
     "output_type": "display_data"
    }
   ],
   "source": [
    "# Build a scatter plot for each data type\n",
    "plt.scatter(weather_data[\"lat\"], weather_data[\"temp\"], marker=\"o\")\n",
    "\n",
    "# Incorporate the other graph properties\n",
    "plt.title(\"Temperature in World Cities\")\n",
    "plt.ylabel(\"Temperature (Celsius)\")\n",
    "plt.xlabel(\"Latitude\")\n",
    "plt.grid(True)\n",
    "\n",
    "# Save the figure\n",
    "plt.savefig(\"TemperatureInWorldCities.png\")\n",
    "\n",
    "# Show plot\n",
    "plt.show()"
   ]
  },
  {
   "cell_type": "code",
   "execution_count": null,
   "metadata": {
    "collapsed": true
   },
   "outputs": [],
   "source": []
  }
 ],
 "metadata": {
  "kernelspec": {
   "display_name": "Python 3",
   "language": "python",
   "name": "python3"
  },
  "language_info": {
   "codemirror_mode": {
    "name": "ipython",
    "version": 3
   },
   "file_extension": ".py",
   "mimetype": "text/x-python",
   "name": "python",
   "nbconvert_exporter": "python",
   "pygments_lexer": "ipython3",
   "version": "3.6.3"
  }
 },
 "nbformat": 4,
 "nbformat_minor": 2
}
