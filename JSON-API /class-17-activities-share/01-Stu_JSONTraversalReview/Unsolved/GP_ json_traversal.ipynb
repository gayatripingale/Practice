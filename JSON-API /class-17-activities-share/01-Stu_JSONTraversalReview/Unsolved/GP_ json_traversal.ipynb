{
 "cells": [
  {
   "cell_type": "code",
   "execution_count": 14,
   "metadata": {},
   "outputs": [],
   "source": [
    "# Dependencies\n",
    "import json\n",
    "import requests as req\n",
    "# Load JSON\n",
    "with open('../Resources/youtube_response.json')as video_file:\n",
    "    video_json = json.load(video_file)\n"
   ]
  },
  {
   "cell_type": "code",
   "execution_count": 15,
   "metadata": {},
   "outputs": [],
   "source": [
    "#response = req.get(video_json).json()"
   ]
  },
  {
   "cell_type": "code",
   "execution_count": 17,
   "metadata": {},
   "outputs": [
    {
     "name": "stdout",
     "output_type": "stream",
     "text": [
      "{\n",
      "  \"apiVersion\": \"2.0\",\n",
      "  \"data\": {\n",
      "    \"updated\": \"2010-01-07T19:58:42.949Z\",\n",
      "    \"totalItems\": 800,\n",
      "    \"startIndex\": 1,\n",
      "    \"itemsPerPage\": 1,\n",
      "    \"items\": [\n",
      "      {\n",
      "        \"id\": \"hYB0mn5zh2c\",\n",
      "        \"uploaded\": \"2007-06-05T22:07:03.000Z\",\n",
      "        \"updated\": \"2010-01-07T13:26:50.000Z\",\n",
      "        \"uploader\": \"GoogleDeveloperDay\",\n",
      "        \"category\": \"News\",\n",
      "        \"title\": \"Google Developers Day US - Maps API Introduction\",\n",
      "        \"description\": \"Google Maps API Introduction ...\",\n",
      "        \"tags\": [\n",
      "          \"GDD07\",\n",
      "          \"GDD07US\",\n",
      "          \"Maps\"\n",
      "        ],\n",
      "        \"thumbnail\": {\n",
      "          \"default\": \"http://i.ytimg.com/vi/hYB0mn5zh2c/default.jpg\",\n",
      "          \"hqDefault\": \"http://i.ytimg.com/vi/hYB0mn5zh2c/hqdefault.jpg\"\n",
      "        },\n",
      "        \"player\": {\n",
      "          \"default\": \"http://www.youtube.com/watch?vu003dhYB0mn5zh2c\"\n",
      "        },\n",
      "        \"content\": {\n",
      "          \"1\": \"rtsp://v5.cache3.c.youtube.com/CiILENy.../0/0/0/video.3gp\",\n",
      "          \"5\": \"http://www.youtube.com/v/hYB0mn5zh2c?f...\",\n",
      "          \"6\": \"rtsp://v1.cache1.c.youtube.com/CiILENy.../0/0/0/video.3gp\"\n",
      "        },\n",
      "        \"duration\": 2840,\n",
      "        \"aspectRatio\": \"widescreen\",\n",
      "        \"rating\": 4.63,\n",
      "        \"ratingCount\": 68,\n",
      "        \"viewCount\": 220101,\n",
      "        \"favoriteCount\": 201,\n",
      "        \"commentCount\": 22,\n",
      "        \"status\": {\n",
      "          \"value\": \"restricted\",\n",
      "          \"reason\": \"limitedSyndication\"\n",
      "        },\n",
      "        \"accessControl\": {\n",
      "          \"syndicate\": \"allowed\",\n",
      "          \"commentVote\": \"allowed\",\n",
      "          \"rate\": \"allowed\",\n",
      "          \"list\": \"allowed\",\n",
      "          \"comment\": \"allowed\",\n",
      "          \"embed\": \"allowed\",\n",
      "          \"videoRespond\": \"moderated\"\n",
      "        }\n",
      "      }\n",
      "    ]\n",
      "  }\n",
      "}\n"
     ]
    }
   ],
   "source": [
    "print(json.dumps(video_json, indent =2))"
   ]
  },
  {
   "cell_type": "code",
   "execution_count": null,
   "metadata": {
    "collapsed": true
   },
   "outputs": [],
   "source": []
  }
 ],
 "metadata": {
  "kernelspec": {
   "display_name": "Python 3",
   "language": "python",
   "name": "python3"
  },
  "language_info": {
   "codemirror_mode": {
    "name": "ipython",
    "version": 3
   },
   "file_extension": ".py",
   "mimetype": "text/x-python",
   "name": "python",
   "nbconvert_exporter": "python",
   "pygments_lexer": "ipython3",
   "version": "3.6.2"
  }
 },
 "nbformat": 4,
 "nbformat_minor": 2
}
