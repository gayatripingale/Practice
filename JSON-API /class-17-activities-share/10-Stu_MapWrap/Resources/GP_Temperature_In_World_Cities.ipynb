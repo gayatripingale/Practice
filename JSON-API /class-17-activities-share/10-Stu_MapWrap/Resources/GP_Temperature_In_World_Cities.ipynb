{
 "cells": [
  {
   "cell_type": "code",
   "execution_count": 7,
   "metadata": {
    "collapsed": true
   },
   "outputs": [],
   "source": [
    "# Cities & Weather\n",
    "\n",
    "#This activity provides practice making API calls iteratively.\n",
    "\n",
    "## Instructions\n",
    "\n",
    "#For this exercise, either work with `cities.csv` as provided, or add a few cities of your own. If you finish the main challenge and feel ambitious, try using a subset of [CountriesToCities.json](https://github.com/David-Haim/CountriesToCitiesJSON) for this activity.\n",
    "\n",
    "#* Load your `cities.csv` file, and use it to create a list of city names you can search for.\n",
    "\n",
    "#* Request weather information on each city, and store each response in a list.\n",
    "\n",
    "#* Collect longitude and atmospheric pressure data for each city. Use the API documentation to determine which keys to extract.\n",
    "\n",
    "#* Put this data into a dict, and load that dict into a Pandas DataFrame.\n",
    "\n",
    "#* Use matplotlib to create a scatter plot of pressures vs longitudes."
   ]
  },
  {
   "cell_type": "code",
   "execution_count": 8,
   "metadata": {},
   "outputs": [
    {
     "data": {
      "text/plain": [
       "[{'base': 'stations',\n",
       "  'clouds': {'all': 0},\n",
       "  'cod': 200,\n",
       "  'coord': {'lat': 48.86, 'lon': 2.35},\n",
       "  'dt': 1518892200,\n",
       "  'id': 2988507,\n",
       "  'main': {'humidity': 75,\n",
       "   'pressure': 1024,\n",
       "   'temp': 4,\n",
       "   'temp_max': 5,\n",
       "   'temp_min': 3},\n",
       "  'name': 'Paris',\n",
       "  'sys': {'country': 'FR',\n",
       "   'id': 5610,\n",
       "   'message': 0.0041,\n",
       "   'sunrise': 1518850445,\n",
       "   'sunset': 1518887744,\n",
       "   'type': 1},\n",
       "  'visibility': 10000,\n",
       "  'weather': [{'description': 'clear sky',\n",
       "    'icon': '01n',\n",
       "    'id': 800,\n",
       "    'main': 'Clear'}],\n",
       "  'wind': {'deg': 2.50003, 'speed': 2.21}},\n",
       " {'base': 'stations',\n",
       "  'clouds': {'all': 32},\n",
       "  'cod': 200,\n",
       "  'coord': {'lat': 51.51, 'lon': -0.13},\n",
       "  'dt': 1518891600,\n",
       "  'id': 2643743,\n",
       "  'main': {'humidity': 61,\n",
       "   'pressure': 1023,\n",
       "   'temp': 6.45,\n",
       "   'temp_max': 8,\n",
       "   'temp_min': 4},\n",
       "  'name': 'London',\n",
       "  'sys': {'country': 'GB',\n",
       "   'id': 5091,\n",
       "   'message': 0.0064,\n",
       "   'sunrise': 1518851351,\n",
       "   'sunset': 1518888032,\n",
       "   'type': 1},\n",
       "  'visibility': 10000,\n",
       "  'weather': [{'description': 'scattered clouds',\n",
       "    'icon': '03n',\n",
       "    'id': 802,\n",
       "    'main': 'Clouds'}],\n",
       "  'wind': {'deg': 210, 'speed': 3.1}},\n",
       " {'base': 'stations',\n",
       "  'clouds': {'all': 80},\n",
       "  'cod': 200,\n",
       "  'coord': {'lat': 59.91, 'lon': 10.74},\n",
       "  'dt': 1518891600,\n",
       "  'id': 3143244,\n",
       "  'main': {'humidity': 92,\n",
       "   'pressure': 1024,\n",
       "   'temp': -2,\n",
       "   'temp_max': -2,\n",
       "   'temp_min': -2},\n",
       "  'name': 'Oslo',\n",
       "  'sys': {'country': 'NO',\n",
       "   'id': 5325,\n",
       "   'message': 0.007,\n",
       "   'sunrise': 1518850051,\n",
       "   'sunset': 1518884129,\n",
       "   'type': 1},\n",
       "  'weather': [{'description': 'broken clouds',\n",
       "    'icon': '04n',\n",
       "    'id': 803,\n",
       "    'main': 'Clouds'}],\n",
       "  'wind': {'speed': 0.5}},\n",
       " {'base': 'stations',\n",
       "  'clouds': {'all': 24},\n",
       "  'cod': 200,\n",
       "  'coord': {'lat': 39.91, 'lon': 116.39},\n",
       "  'dt': 1518890400,\n",
       "  'id': 1816670,\n",
       "  'main': {'humidity': 79,\n",
       "   'pressure': 1024,\n",
       "   'temp': -6,\n",
       "   'temp_max': -6,\n",
       "   'temp_min': -6},\n",
       "  'name': 'Beijing',\n",
       "  'sys': {'country': 'CN',\n",
       "   'id': 7405,\n",
       "   'message': 0.0052,\n",
       "   'sunrise': 1518822253,\n",
       "   'sunset': 1518861189,\n",
       "   'type': 1},\n",
       "  'visibility': 6000,\n",
       "  'weather': [{'description': 'few clouds',\n",
       "    'icon': '02n',\n",
       "    'id': 801,\n",
       "    'main': 'Clouds'}],\n",
       "  'wind': {'deg': 10, 'speed': 2}}]"
      ]
     },
     "execution_count": 8,
     "metadata": {},
     "output_type": "execute_result"
    }
   ],
   "source": [
    "# Dependencies\n",
    "import matplotlib.pyplot as plt\n",
    "import requests as req\n",
    "import pandas as pd\n",
    "\n",
    "api_key = \"25bc90a1196e6f153eece0bc0b0fc9eb\"\n",
    "url = \"http://api.openweathermap.org/data/2.5/weather?\"\n",
    "units = \"metric\"\n",
    "\n",
    "# Build partial query URL\n",
    "query_url = url + \"appid=\" + api_key + \"&units=\" + units + \"&q=\"\n",
    "\n",
    "weather_data = []\n",
    "cities = [\"Paris\",\"London\",\"Oslo\",\"Beijing\"]\n",
    "\n",
    "# Loop through the list of cities and perform a request for data on each\n",
    "for city in cities:\n",
    "    response = req.get(query_url + city).json()\n",
    "    weather_data.append(response)\n",
    "\n",
    "weather_data"
   ]
  },
  {
   "cell_type": "code",
   "execution_count": 9,
   "metadata": {},
   "outputs": [
    {
     "data": {
      "text/plain": [
       "'http://api.openweathermap.org/data/2.5/weather?appid=25bc90a1196e6f153eece0bc0b0fc9eb&units=metric&q='"
      ]
     },
     "execution_count": 9,
     "metadata": {},
     "output_type": "execute_result"
    }
   ],
   "source": [
    "query_url"
   ]
  },
  {
   "cell_type": "code",
   "execution_count": 10,
   "metadata": {},
   "outputs": [
    {
     "data": {
      "image/png": "[encoded data removed]",
      "text/plain": [
       "<matplotlib.figure.Figure at 0x110fe8550>"
      ]
     },
     "metadata": {},
     "output_type": "display_data"
    }
   ],
   "source": [
    "# Extract interesting data from responses\n",
    "lat_data = [data.get(\"coord\").get(\"lat\") for data in weather_data]\n",
    "temp_data = [data.get(\"main\").get(\"temp\") for data in weather_data]\n",
    "\n",
    "weather_data = {\"temp\": temp_data, \"lat\": lat_data}\n",
    "weather_data = pd.DataFrame(weather_data)\n",
    "weather_data.head()\n",
    "\n",
    "# Build a scatter plot for each data type\n",
    "plt.scatter(weather_data[\"lat\"], weather_data[\"temp\"], marker=\"o\")\n",
    "\n",
    "# Incorporate the other graph properties\n",
    "plt.title(\"Temperature in World Cities\")\n",
    "plt.ylabel(\"Temperature (Celsius)\")\n",
    "plt.xlabel(\"Latitude\")\n",
    "plt.grid(True)\n",
    "\n",
    "# Save the figure\n",
    "plt.savefig(\"TemperatureInWorldCities.png\")\n",
    "\n",
    "# Show plot\n",
    "plt.show()"
   ]
  },
  {
   "cell_type": "code",
   "execution_count": null,
   "metadata": {
    "collapsed": true
   },
   "outputs": [],
   "source": []
  }
 ],
 "metadata": {
  "kernelspec": {
   "display_name": "Python 3",
   "language": "python",
   "name": "python3"
  },
  "language_info": {
   "codemirror_mode": {
    "name": "ipython",
    "version": 3
   },
   "file_extension": ".py",
   "mimetype": "text/x-python",
   "name": "python",
   "nbconvert_exporter": "python",
   "pygments_lexer": "ipython3",
   "version": "3.6.2"
  }
 },
 "nbformat": 4,
 "nbformat_minor": 2
}
