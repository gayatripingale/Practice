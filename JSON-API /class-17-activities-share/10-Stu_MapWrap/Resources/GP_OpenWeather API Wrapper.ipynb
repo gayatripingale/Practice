{
 "cells": [
  {
   "cell_type": "code",
   "execution_count": 2,
   "metadata": {},
   "outputs": [],
   "source": [
    "# OpenWeather API Wrapper\n",
    "\n",
    "#This activity demonstrates the additional ease of use afforded by API wrappers.\n",
    "\n",
    "## Instructions\n",
    "\n",
    "#* Install the openweathermapy API wrapper.\n",
    "\n",
    "#* Create a settings object with your API key and preferred units of measurement.\n",
    "\n",
    "#* Get data for each city in `cities.csv`.\n",
    "\n",
    "#* Create a list to get the temperature, latitude, and longitude in each city\n",
    "\n",
    "#* Create a Pandas DataFrame with the results.\n",
    "\n",
    "#* Print your summaries to verify that everything went smoothly.\n",
    "\n",
    "## Bonus\n",
    "\n",
    "#* If you finish early, read about, and experiment with, the `*` syntax.\n",
    "\n",
    "#* Pass a `columns` keyword argument to `pd.DataFrame`, and provide labels for the temperature and coordinate data."
   ]
  },
  {
   "cell_type": "code",
   "execution_count": 15,
   "metadata": {},
   "outputs": [],
   "source": [
    "import openweathermapy.core as ow \n"
   ]
  },
  {
   "cell_type": "code",
   "execution_count": 16,
   "metadata": {},
   "outputs": [
    {
     "name": "stdout",
     "output_type": "stream",
     "text": [
      "Requirement already satisfied: openweathermapy in /Users/gayatripingale/anaconda3/lib/python3.6/site-packages\r\n"
     ]
    }
   ],
   "source": [
    "!pip install openweathermapy"
   ]
  },
  {
   "cell_type": "code",
   "execution_count": null,
   "metadata": {
    "collapsed": true
   },
   "outputs": [],
   "source": []
  }
 ],
 "metadata": {
  "kernelspec": {
   "display_name": "Python 3",
   "language": "python",
   "name": "python3"
  },
  "language_info": {
   "codemirror_mode": {
    "name": "ipython",
    "version": 3
   },
   "file_extension": ".py",
   "mimetype": "text/x-python",
   "name": "python",
   "nbconvert_exporter": "python",
   "pygments_lexer": "ipython3",
   "version": "3.6.2"
  }
 },
 "nbformat": 4,
 "nbformat_minor": 2
}
